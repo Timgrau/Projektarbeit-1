{
 "cells": [
  {
   "cell_type": "markdown",
   "metadata": {
    "collapsed": true,
    "pycharm": {
     "name": "#%% md\n"
    }
   },
   "source": [
    "# Lets try to see if we really add 0dB Noise"
   ]
  },
  {
   "cell_type": "code",
   "execution_count": 1,
   "outputs": [],
   "source": [
    "# imports\n",
    "from sample import calculation,helpers\n",
    "import librosa as lr\n",
    "import soundfile as sf"
   ],
   "metadata": {
    "collapsed": false,
    "pycharm": {
     "name": "#%%\n"
    }
   }
  },
  {
   "cell_type": "code",
   "execution_count": 2,
   "outputs": [],
   "source": [
    "# load Data\n",
    "noise_path = helpers.NOISE_PROCESSED+\"aircon_2_0.wav\"\n",
    "audio_path = helpers.DATA_PROCESSED+\"usage_0_5.wav\"\n",
    "sr = helpers.SAMPLE_RATE\n",
    "noise,_ = lr.load(noise_path,sr=sr)\n",
    "audio,_ = lr.load(audio_path,sr=sr)"
   ],
   "metadata": {
    "collapsed": false,
    "pycharm": {
     "name": "#%%\n"
    }
   }
  },
  {
   "cell_type": "code",
   "execution_count": 3,
   "outputs": [
    {
     "name": "stdout",
     "output_type": "stream",
     "text": [
      "0.31135818\n",
      "SNR: 0.0 dB\n"
     ]
    }
   ],
   "source": [
    "# check for 0db SNR\n",
    "constant = calculation.get_constant(audio,noise)\n",
    "power_signal = calculation.meanPower(audio)\n",
    "power_noise = calculation.meanPower(constant*noise)\n",
    "\n",
    "print(constant)\n",
    "\n",
    "print(\"SNR: %s dB\" %calculation.snr(power_signal,power_noise))\n",
    "noisy_audio = calculation.add_noise_zero_db(audio,noise)"
   ],
   "metadata": {
    "collapsed": false,
    "pycharm": {
     "name": "#%%\n"
    }
   }
  },
  {
   "cell_type": "code",
   "execution_count": 4,
   "outputs": [],
   "source": [
    "sf.write(\"/home/timo/scripts/test_audio.wav\",noisy_audio,sr)"
   ],
   "metadata": {
    "collapsed": false,
    "pycharm": {
     "name": "#%%\n"
    }
   }
  },
  {
   "cell_type": "code",
   "execution_count": 5,
   "outputs": [],
   "source": [
    "# try to load noise as numerical data\n",
    "noise_all = helpers.NOISE_PROCESSED\n",
    "noise_data = helpers.getNumpyData(noise_all)"
   ],
   "metadata": {
    "collapsed": false,
    "pycharm": {
     "name": "#%%\n"
    }
   }
  },
  {
   "cell_type": "code",
   "execution_count": 6,
   "outputs": [
    {
     "name": "stdout",
     "output_type": "stream",
     "text": [
      "8000009\n",
      "[0.00000000e+00 0.00000000e+00 0.00000000e+00 ... 1.16212259e-03\n",
      " 1.25805091e-03 5.98636461e-06]\n"
     ]
    }
   ],
   "source": [
    "print(noise_data.size)\n",
    "print(noise_data)"
   ],
   "metadata": {
    "collapsed": false,
    "pycharm": {
     "name": "#%%\n"
    }
   }
  },
  {
   "cell_type": "code",
   "execution_count": 6,
   "outputs": [],
   "source": [],
   "metadata": {
    "collapsed": false,
    "pycharm": {
     "name": "#%%\n"
    }
   }
  }
 ],
 "metadata": {
  "kernelspec": {
   "display_name": "Python 3",
   "language": "python",
   "name": "python3"
  },
  "language_info": {
   "codemirror_mode": {
    "name": "ipython",
    "version": 2
   },
   "file_extension": ".py",
   "mimetype": "text/x-python",
   "name": "python",
   "nbconvert_exporter": "python",
   "pygments_lexer": "ipython2",
   "version": "2.7.6"
  }
 },
 "nbformat": 4,
 "nbformat_minor": 0
}