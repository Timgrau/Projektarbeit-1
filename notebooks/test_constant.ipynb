{
 "cells": [
  {
   "cell_type": "markdown",
   "metadata": {
    "collapsed": true,
    "pycharm": {
     "name": "#%% md\n"
    }
   },
   "source": [
    "# Lets try to see if we really add 0dB Noise"
   ]
  },
  {
   "cell_type": "code",
   "execution_count": 5,
   "outputs": [],
   "source": [
    "# imports\n",
    "from sample import calculation,helpers\n",
    "import librosa as lr"
   ],
   "metadata": {
    "collapsed": false,
    "pycharm": {
     "name": "#%%\n"
    }
   }
  },
  {
   "cell_type": "code",
   "execution_count": 7,
   "outputs": [],
   "source": [
    "# load Data\n",
    "noise_path = helpers.NOISE_PROCESSED+\"aircon_2_0.wav\"\n",
    "audio_path = helpers.DATA_PROCESSED+\"usage_0_5.wav\"\n",
    "sr = helpers.SAMPLE_RATE\n",
    "noise,_ = lr.load(noise_path,sr=sr)\n",
    "audio,_ = lr.load(audio_path,sr=sr)"
   ],
   "metadata": {
    "collapsed": false,
    "pycharm": {
     "name": "#%%\n"
    }
   }
  },
  {
   "cell_type": "code",
   "execution_count": 13,
   "outputs": [
    {
     "name": "stdout",
     "output_type": "stream",
     "text": [
      "0.31135818\n",
      "SNR: 0.0 dB\n"
     ]
    }
   ],
   "source": [
    "# check for 0db SNR\n",
    "constant = calculation.get_constant(audio,noise)\n",
    "power_signal = calculation.meanPower(audio)\n",
    "power_noise = calculation.meanPower(constant*noise)\n",
    "\n",
    "print(constant)\n",
    "\n",
    "print(\"SNR: %s dB\" %calculation.snr(power_signal,power_noise))"
   ],
   "metadata": {
    "collapsed": false,
    "pycharm": {
     "name": "#%%\n"
    }
   }
  },
  {
   "cell_type": "code",
   "execution_count": null,
   "outputs": [],
   "source": [],
   "metadata": {
    "collapsed": false,
    "pycharm": {
     "name": "#%%\n"
    }
   }
  }
 ],
 "metadata": {
  "kernelspec": {
   "display_name": "Python 3",
   "language": "python",
   "name": "python3"
  },
  "language_info": {
   "codemirror_mode": {
    "name": "ipython",
    "version": 2
   },
   "file_extension": ".py",
   "mimetype": "text/x-python",
   "name": "python",
   "nbconvert_exporter": "python",
   "pygments_lexer": "ipython2",
   "version": "2.7.6"
  }
 },
 "nbformat": 4,
 "nbformat_minor": 0
}