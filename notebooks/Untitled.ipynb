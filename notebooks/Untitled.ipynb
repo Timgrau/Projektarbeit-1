{
 "cells": [
  {
   "cell_type": "code",
   "execution_count": 1,
   "id": "303d8987",
   "metadata": {},
   "outputs": [],
   "source": [
    "from sample.loadData import numericalData\n",
    "from sample.helpers import getNumpyData\n",
    "from sample.constants import DATA_PROCESSED, NOISE_PROCESSED"
   ]
  },
  {
   "cell_type": "code",
   "execution_count": 2,
   "id": "51bc318b",
   "metadata": {},
   "outputs": [],
   "source": [
    "# Laden der vorverarbeiteten Rausch- und Audioaufnahmen\n",
    "noise_numpy = getNumpyData(NOISE_PROCESSED)\n",
    "audio_numpy = getNumpyData(DATA_PROCESSED)"
   ]
  },
  {
   "cell_type": "code",
   "execution_count": 3,
   "id": "c1b18f56",
   "metadata": {},
   "outputs": [
    {
     "name": "stdout",
     "output_type": "stream",
     "text": [
      "Rauschen: (100, 80000)\n",
      "Audio: (72, 80000)\n"
     ]
    }
   ],
   "source": [
    "print(\"Rauschen:\", noise_numpy.shape)\n",
    "print(\"Audio:\", audio_numpy.shape)"
   ]
  },
  {
   "cell_type": "code",
   "execution_count": 4,
   "id": "6877472f",
   "metadata": {},
   "outputs": [],
   "source": [
    "input_data = numericalData(audio_numpy,noise_numpy)"
   ]
  },
  {
   "cell_type": "code",
   "execution_count": 5,
   "id": "753e85c1",
   "metadata": {},
   "outputs": [
    {
     "name": "stdout",
     "output_type": "stream",
     "text": [
      "Tensor: (72, 100, 80000)\n"
     ]
    }
   ],
   "source": [
    "print(\"Tensor:\", input_data.shape)"
   ]
  },
  {
   "cell_type": "code",
   "execution_count": 5,
   "id": "dd2487b6",
   "metadata": {},
   "outputs": [],
   "source": []
  }
 ],
 "metadata": {
  "kernelspec": {
   "display_name": "Python 3 (ipykernel)",
   "language": "python",
   "name": "python3"
  },
  "language_info": {
   "codemirror_mode": {
    "name": "ipython",
    "version": 3
   },
   "file_extension": ".py",
   "mimetype": "text/x-python",
   "name": "python",
   "nbconvert_exporter": "python",
   "pygments_lexer": "ipython3",
   "version": "3.9.7"
  }
 },
 "nbformat": 4,
 "nbformat_minor": 5
}